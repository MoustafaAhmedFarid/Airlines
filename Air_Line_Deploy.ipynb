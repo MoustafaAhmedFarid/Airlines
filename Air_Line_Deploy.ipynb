{
 "cells": [
  {
   "cell_type": "code",
   "execution_count": 13,
   "id": "ca1abb2b",
   "metadata": {},
   "outputs": [
    {
     "name": "stdout",
     "output_type": "stream",
     "text": [
      "Overwriting Air_Line_Flights.py\n"
     ]
    }
   ],
   "source": [
    "%%writefile Air_Line_Flights.py\n",
    "\n",
    "import streamlit as st\n",
    "import pandas as pd\n",
    "import joblib\n",
    "import sklearn\n",
    "import xgboost\n",
    "import category_encoders\n",
    "\n",
    "st.header(\"AirLine Flights Web Site\")\n",
    "\n",
    "\n",
    "Inputs = joblib.load(\"Inputs.pkl\")\n",
    "Model = joblib.load(\"Model.pkl\")\n",
    "\n",
    "def prediction (Airline, Source, Destination, StopCount, Journey_Year, Journey_Month, Journey_day, Season):\n",
    "    test_df = pd.DataFrame(columns=Inputs)\n",
    "    test_df.at[0,'Airline'] = Airline\n",
    "    test_df.at[0, 'Source'] = Source\n",
    "    test_df.at[0, 'Destination'] = Destination\n",
    "    test_df.at[0, 'StopCount'] = StopCount\n",
    "    test_df.at[0, 'Journey_Year'] = Journey_Year\n",
    "    test_df.at[0, 'Journey_Month'] = Journey_Month\n",
    "    test_df.at[0, 'Journey_day'] = Journey_day\n",
    "    test_df.at[0, 'Season'] = Season\n",
    "    result = Model.predict(test_df)\n",
    "    return result[0]\n",
    "\n",
    "def main():\n",
    "    st.text('Airline Flights Price Prediction')\n",
    "    st.image(\"Air_Line.jpg\")\n",
    "    Airline = st.selectbox('Airline_Company', ['IndiGo', 'Air India', 'Jet Airways', 'SpiceJet',\n",
    "       'Multiple carriers', 'GoAir', 'Vistara', 'Air Asia',\n",
    "       'Vistara Premium economy', 'Jet Airways Business',\n",
    "       'Multiple carriers Premium economy', 'Trujet'])\n",
    "    Source = st.selectbox('Source', ['Banglore', 'Kolkata', 'Delhi', 'Chennai', 'Mumbai'])\n",
    "    Destination = st.selectbox('Destination', ['New Delhi', 'Banglore', 'Cochin', 'Kolkata', 'Delhi', 'Hyderabad'])\n",
    "    StopCount = st.selectbox('Transit',[0,1,2,3,4])\n",
    "    Journey_Year = st.selectbox('Journey_Year', [2019])\n",
    "    Journey_Month = st.slider('Month',min_value=1 , max_value= 12, value=1 , step= 1)\n",
    "    Journey_day = st.slider('Day',min_value=3 , max_value=27 , value=1 , step=1 )\n",
    "    Season = st.selectbox('Season', ['spring', 'winter', 'fall', 'summer'])\n",
    "    \n",
    "    if st.button(\"predict\"):\n",
    "        result = prediction (Airline, Source, Destination, StopCount, Journey_Year, Journey_Month, Journey_day, Season)\n",
    "        st.text(f'This Flight Trip Will Cost ${result} USD')\n",
    "\n",
    "if __name__ == '__main__':\n",
    "    main()"
   ]
  },
  {
   "cell_type": "code",
   "execution_count": null,
   "id": "8944b1d7",
   "metadata": {},
   "outputs": [],
   "source": []
  },
  {
   "cell_type": "code",
   "execution_count": null,
   "id": "fb1adae1",
   "metadata": {},
   "outputs": [],
   "source": []
  }
 ],
 "metadata": {
  "kernelspec": {
   "display_name": "Python 3 (ipykernel)",
   "language": "python",
   "name": "python3"
  },
  "language_info": {
   "codemirror_mode": {
    "name": "ipython",
    "version": 3
   },
   "file_extension": ".py",
   "mimetype": "text/x-python",
   "name": "python",
   "nbconvert_exporter": "python",
   "pygments_lexer": "ipython3",
   "version": "3.11.3"
  }
 },
 "nbformat": 4,
 "nbformat_minor": 5
}
